{
 "cells": [
  {
   "cell_type": "code",
   "execution_count": 131,
   "metadata": {},
   "outputs": [],
   "source": [
    "import json\n",
    "import twitter\n",
    "import pylab\n",
    "import random"
   ]
  },
  {
   "cell_type": "code",
   "execution_count": 7,
   "metadata": {},
   "outputs": [],
   "source": [
    "#key and secret values from my Twitter App\n",
    "twitter_consumer_key = 'r5mhYtqYhxHnsiiAKqwoDElmv'\n",
    "twitter_consumer_secret = 'kX39amHoA1h0ybPz6VqN4ThC4cO4A3Ipb9NqZtZLaw7kp27fti'\n",
    "twitter_access_token = '1306035165710495745-LKIXNbq9LF1ESBYk0bswzDPW5ewPzT'\n",
    "twitter_access_secret = '3A5MXJrIjH5brRX5PrrG79QvYOItvGsqbhyDBIsZMTQzb'"
   ]
  },
  {
   "cell_type": "code",
   "execution_count": 9,
   "metadata": {},
   "outputs": [],
   "source": [
    "#apply my unique key values to gain access to the twitter api\n",
    "twitter_api = twitter.Api(consumer_key=twitter_consumer_key, consumer_secret=twitter_consumer_secret, access_token_key=twitter_access_token, access_token_secret=twitter_access_secret)"
   ]
  },
  {
   "cell_type": "code",
   "execution_count": 161,
   "metadata": {
    "scrolled": true
   },
   "outputs": [
    {
     "name": "stdout",
     "output_type": "stream",
     "text": [
      "Lets play a guessing game\n",
      "Your tweet is: \n",
      "Conceptual telepathy\n",
      "Do you think Kanye or Elon tweeted this?\n",
      "kanye\n",
      "Incorrect, sorry :(\n",
      "You've gotten 0 right\n",
      "If you would like to play again, enter yes\n",
      "If you would wish to quit, enter no\n",
      "yes\n",
      "Your tweet is: \n",
      "Just learned that my physics prof from Penn is head of Fermilab &amp; still has some of my old homework ☺️\n",
      "Do you think Kanye or Elon tweeted this?\n",
      "elon\n",
      "Correct!\n",
      "You've gotten 1 right\n",
      "If you would like to play again, enter yes\n",
      "If you would wish to quit, enter no\n",
      "no\n",
      "Thank you for playing\n"
     ]
    }
   ],
   "source": [
    "#create a database of elon's and kanye's tweets excluding replies and retweets\n",
    "handle = 'elonmusk'\n",
    "database = twitter_api.GetUserTimeline(screen_name=handle, count=3200, exclude_replies = True, include_rts=False)\n",
    "handle = 'kanyewest'\n",
    "database = database + twitter_api.GetUserTimeline(screen_name=handle, count=3200, exclude_replies = True, include_rts=False)\n",
    "#delete all tweets containing links or threads(https)\n",
    "for tweet in database[:]:\n",
    "    if 'https' in tweet.text:\n",
    "       database.remove(tweet)\n",
    "\n",
    "#bulk of the game\n",
    "print(\"Lets play a guessing game.\")\n",
    "choice = \"yes\"\n",
    "win = 0\n",
    "#create a menu\n",
    "while(choice == \"yes\"):\n",
    "    #randomly select a tweet\n",
    "    value = random.randint(0,len(database))\n",
    "    print(\"Your tweet is: \")\n",
    "    print(database[value].text)\n",
    "    print(\"Do you think Kanye or Elon tweeted this?\")\n",
    "    answer = input()\n",
    "    #check to see if the answer matches with the tweet's user\n",
    "    if((answer.lower() == \"kanye\" and database[value].user.screen_name == 'kanyewest') or (answer.lower() == \"elon\" and database[value].user.screen_name == 'elonmusk')):\n",
    "        print(\"Correct!\")\n",
    "        win = win + 1\n",
    "    else:\n",
    "        print(\"Incorrect, sorry :(\")\n",
    "    print(\"You've gotten \" + str(win) + \" right.\")\n",
    "    print(\"If you would like to play again, enter yes.\")\n",
    "    print(\"If you would wish to quit, enter no.\")\n",
    "    choice = input()\n",
    "    \n",
    "print(\"Thank you for playing!\")"
   ]
  },
  {
   "cell_type": "code",
   "execution_count": null,
   "metadata": {},
   "outputs": [],
   "source": []
  },
  {
   "cell_type": "code",
   "execution_count": null,
   "metadata": {},
   "outputs": [],
   "source": []
  },
  {
   "cell_type": "code",
   "execution_count": null,
   "metadata": {},
   "outputs": [],
   "source": []
  }
 ],
 "metadata": {
  "kernelspec": {
   "display_name": "Python 3",
   "language": "python",
   "name": "python3"
  },
  "language_info": {
   "codemirror_mode": {
    "name": "ipython",
    "version": 3
   },
   "file_extension": ".py",
   "mimetype": "text/x-python",
   "name": "python",
   "nbconvert_exporter": "python",
   "pygments_lexer": "ipython3",
   "version": "3.8.3"
  }
 },
 "nbformat": 4,
 "nbformat_minor": 4
}
